{
 "cells": [
  {
   "cell_type": "markdown",
   "metadata": {},
   "source": [
    "# Examining changes in presidential reporting across administrations\n",
    "## Author: Matthew Ware"
   ]
  },
  {
   "cell_type": "markdown",
   "metadata": {},
   "source": [
    "![title](presidential_reporting.png)"
   ]
  },
  {
   "cell_type": "markdown",
   "metadata": {},
   "source": [
    "## Figure Caption\n",
    "Following reduction and data munging of the 20GB of metadata covering the articles from the NYTimes archives API, we produce the following from the 2GB subset including publication dates, word counts, and headlines:\n",
    "\n",
    "Remarkably, we observe that articles with headlines mentioning <span style=\"color:orange\">'Trump'</span> (case-insensitive) make up 6% of the NYTimes content for 2017.\n",
    "\n",
    "Even for the two Presidents with the biggest scandals during the last 50 years, <span style=\"color:red\">'Nixon'</span> (Watergate) and <span style=\"color:blue\">'Carter'</span> (Iran hostage crises),had their coverage peak at a 2.5% annual rate.\n",
    "\n",
    "<span style=\"color:DarkGray\">(Dark Grey)</span> Looking at every other president since 1950, we see the reporting rate of presidents hovers consistently around 1-2%. This gives indication that Trump is an outlier with respect to the NYTimes coverage.\n",
    "\n",
    "(Black) We observe that rate at which the word 'president' (case-insensitive) was mentioned in a NYTimes has descreased from a high of 0.018 in 1955 to a lull of 0.002 from 1990-2013. We only see at the start of the 2017 primary campaigns in 2014 an uptick in the rate of 'president' being mentioned in a headline.\n",
    "\n",
    "*The above reduction and analysis was accomplished with the following tools included in this repository: <a href=\"https://github.com/mrware91/nyt_api_analysis_tools/blob/master/grab_archives.rb\">grab_archives.rb</a>,\n",
    "<a href=\"https://github.com/mrware91/nyt_api_analysis_tools/blob/master/NYTimesAPI.py\">NYTimesAPI.py</a>,\n",
    "<a href=\"https://github.com/mrware91/nyt_api_analysis_tools/blob/master/Workspace.py\">Workspace.py</a>, and\n",
    "<a href=\"https://github.com/mrware91/nyt_api_analysis_tools/blob/master/NYTAnalysis.py\">NYTAnalysis.py</a>.*"
   ]
  },
  {
   "cell_type": "markdown",
   "metadata": {},
   "source": [
    "## Identifying reporting themes across administrations\n",
    "\n",
    "The NYTimes clearly has a lot to say about Trump. To identify the themes of their articles, I first reduced the remaining 20GB of the data I collected from the API, now including snippets from the article to text. \n",
    "\n",
    "For the ~10,000 articles covering each president, I reduced the text onto a span of the top 300 keywords (<a href=\"https://github.com/mrware91/nyt_api_analysis_tools/blob/master/KeyWordIdentification.ipynb\">code link</a>), omitting <a href=\"https://github.com/mrware91/nyt_api_analysis_tools/blob/master/stop_words.txt\">stop words</a>.\n",
    "\n",
    "This was then fed into a PCA analysis using the data mining app, Orange, to identify words commonly found together in the articles. I interpret these groupings as themes for each article. The output of the <a href=\"https://github.com/mrware91/nyt_api_analysis_tools/blob/master/PCA_Pres_Highlights.ows\">PCA analysis</a> for articles with headlines including 'Trump' is shown in the heatmap below.\n",
    "\n"
   ]
  },
  {
   "cell_type": "markdown",
   "metadata": {},
   "source": [
    "![title](PCA%20results/trump_rot.png)"
   ]
  },
  {
   "cell_type": "markdown",
   "metadata": {},
   "source": [
    "## Figure Caption\n",
    "\n",
    "The initial PCA analysis has the vector which best identifies the Russia scandal highlighted. We observe the keyword 'Russia' is largely independent of important issues in Trump's presidency, except for the health care bill. Exploring the heatmap, we find that other big issues such as 'Comey', 'Carolina', and 'Muslim' are similarly grouped following the PCA analysis.\n",
    "\n",
    "We find the PCA analysis similarly groups the reporting themes for past presidents. You can explore the PCA heatmaps for <a href=\"https://github.com/mrware91/nyt_api_analysis_tools/blob/master/PCA%20results/clinton_rot.png\">Clinton</a>, <a href=\"https://github.com/mrware91/nyt_api_analysis_tools/blob/master/PCA%20results/nixon_rot.png\">Nixon</a>, and <a href=\"https://github.com/mrware91/nyt_api_analysis_tools/blob/master/PCA%20results/obama_rot.png\">Obama</a>. For these, I've respectively highlighted the principle components containing the Lewinsky scandal, Watergate, and the Iran Nuclear Deal."
   ]
  },
  {
   "cell_type": "markdown",
   "metadata": {},
   "source": [
    "## Next steps\n",
    "The principle-components appear to be effectively identifying the themes across the NYTimes articles. Next I'll project the word count vectors from each individual articles onto these principal components to generate a measure for how much each article is covering the different themes. Suming those projections across articles, I hope to measure how much the NYTimes is reporting on different topics for each administration."
   ]
  }
 ],
 "metadata": {
  "kernelspec": {
   "display_name": "Python 2",
   "language": "python",
   "name": "python2"
  },
  "language_info": {
   "codemirror_mode": {
    "name": "ipython",
    "version": 2
   },
   "file_extension": ".py",
   "mimetype": "text/x-python",
   "name": "python",
   "nbconvert_exporter": "python",
   "pygments_lexer": "ipython2",
   "version": "2.7.14"
  }
 },
 "nbformat": 4,
 "nbformat_minor": 2
}
